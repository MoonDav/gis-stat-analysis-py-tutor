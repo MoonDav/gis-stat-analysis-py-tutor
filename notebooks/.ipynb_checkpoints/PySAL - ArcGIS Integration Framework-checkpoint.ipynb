{
 "cells": [
  {
   "cell_type": "code",
   "execution_count": null,
   "metadata": {
    "collapsed": true
   },
   "outputs": [],
   "source": [
    "import SSDataObject as SSDO\n",
    "import WeightsUtilities as WU\n",
    "import pysal as PYSAL\n",
    "import os as OS"
   ]
  },
  {
   "cell_type": "code",
   "execution_count": null,
   "metadata": {
    "collapsed": false
   },
   "outputs": [],
   "source": [
    "inputFC = r'../data/CA_Polygons.shp'\n",
    "fullFC = OS.path.abspath(inputFC)\n",
    "fullPath, fcName = OS.path.split(fullFC)\n",
    "ssdo = SSDO.SSDataObject(inputFC)\n",
    "uniqueIDField = \"MYID\"\n",
    "fieldNames = ['GROWTH', 'LOGPCR69', 'PERCNOHS']\n",
    "ssdo.obtainData(uniqueIDField, fieldNames)\n",
    "df = ssdo.getDataFrame()\n",
    "print(df.head())"
   ]
  },
  {
   "cell_type": "code",
   "execution_count": null,
   "metadata": {
    "collapsed": false
   },
   "outputs": [],
   "source": [
    "import Weights as WEIGHTS\n",
    "import pysal2ArcGIS as PYSAL_UTILS\n",
    "swmFile = OS.path.join(fullPath, \"queen_rs.swm\")\n",
    "kernelSWMFile = OS.path.join(fullPath, \"kernel_uniform_4nn.swm\")\n",
    "w = PYSAL_UTILS.swm2Weights(ssdo, swmFile)\n",
    "kernelW = PYSAL_UTILS.swm2Weights(ssdo, kernelSWMFile)"
   ]
  },
  {
   "cell_type": "code",
   "execution_count": null,
   "metadata": {
    "collapsed": false
   },
   "outputs": [],
   "source": [
    "X = df.as_matrix()\n",
    "y = X[:,0]\n",
    "y.shape = ssdo.numObs, 1\n",
    "autoTestResult = PYSAL_UTILS.autospace(y, X[:,1:], w, kernelW,\n",
    "                                       opvalue = .1, name_y = fieldNames[0], name_x = fieldNames[1:],\n",
    "                                       name_w = swmFile, name_gwk = kernelSWMFile, name_ds = ssdo.inName)"
   ]
  },
  {
   "cell_type": "code",
   "execution_count": null,
   "metadata": {
    "collapsed": false
   },
   "outputs": [],
   "source": [
    "olsModel = autoTestResult['regression1']\n",
    "print(olsModel.summary)"
   ]
  },
  {
   "cell_type": "code",
   "execution_count": null,
   "metadata": {
    "collapsed": false
   },
   "outputs": [],
   "source": [
    "finalModel = autoTestResult['regression2']\n",
    "print(finalModel.summary)"
   ]
  },
  {
   "cell_type": "code",
   "execution_count": null,
   "metadata": {
    "collapsed": true
   },
   "outputs": [],
   "source": [
    "ARCPY.env.overwriteOutput = True\n",
    "outputFC = r'D:\\Data\\Projects\\PySAL_ArcGIS\\PySAL_ArcGIS.gdb\\automodel_output'\n",
    "outFields = {}\n",
    "outFields['Predy'] = SSDO.CandidateField('Predy', \"Double\", finalModel.predy)\n",
    "outFields['Resid'] = SSDO.CandidateField('Resid', \"Double\", finalModel.u)\n",
    "appendFields = fieldNames + [\"NEW_NAME\"]\n",
    "ssdo.output2NewFC(outputFC, outFields, appendFields = appendFields)"
   ]
  }
 ],
 "metadata": {
  "kernelspec": {
   "display_name": "Python 3",
   "language": "python",
   "name": "python3"
  },
  "language_info": {
   "codemirror_mode": {
    "name": "ipython",
    "version": 3
   },
   "file_extension": ".py",
   "mimetype": "text/x-python",
   "name": "python",
   "nbconvert_exporter": "python",
   "pygments_lexer": "ipython3",
   "version": "3.4.4"
  },
  "widgets": {
   "state": {},
   "version": "1.1.2"
  }
 },
 "nbformat": 4,
 "nbformat_minor": 0
}
